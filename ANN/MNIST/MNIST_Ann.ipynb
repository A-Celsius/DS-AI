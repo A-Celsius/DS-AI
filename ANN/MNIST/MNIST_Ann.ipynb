{
  "cells": [
    {
      "cell_type": "code",
      "execution_count": 1,
      "metadata": {
        "id": "arVC1RHs8AJ1"
      },
      "outputs": [],
      "source": [
        "import tensorflow\n",
        "from tensorflow import keras\n",
        "from tensorflow.keras import Sequential\n",
        "from tensorflow.keras.layers import Dense,Flatten"
      ]
    },
    {
      "cell_type": "code",
      "execution_count": 2,
      "metadata": {
        "id": "J7hsbl2H8AJ5",
        "colab": {
          "base_uri": "https://localhost:8080/"
        },
        "outputId": "fb855c64-5281-427b-c0b8-000d57b16d4e"
      },
      "outputs": [
        {
          "output_type": "stream",
          "name": "stdout",
          "text": [
            "Downloading data from https://storage.googleapis.com/tensorflow/tf-keras-datasets/mnist.npz\n",
            "11490434/11490434 [==============================] - 0s 0us/step\n"
          ]
        }
      ],
      "source": [
        "(X_train,y_train),(X_test,y_test) = keras.datasets.mnist.load_data()"
      ]
    },
    {
      "cell_type": "code",
      "execution_count": 3,
      "metadata": {
        "colab": {
          "base_uri": "https://localhost:8080/"
        },
        "id": "6nRudXI-8AJ6",
        "outputId": "72a7ab35-9a4b-4431-a09e-e2dae7c2fcee"
      },
      "outputs": [
        {
          "output_type": "execute_result",
          "data": {
            "text/plain": [
              "((60000, 28, 28), (10000, 28, 28))"
            ]
          },
          "metadata": {},
          "execution_count": 3
        }
      ],
      "source": [
        "X_train.shape,X_test.shape"
      ]
    },
    {
      "cell_type": "code",
      "execution_count": 4,
      "metadata": {
        "colab": {
          "base_uri": "https://localhost:8080/",
          "height": 448
        },
        "id": "HxNwQ_UK8AJ6",
        "outputId": "d0ef2d7e-8b40-4245-d814-bb6b0def9a95"
      },
      "outputs": [
        {
          "output_type": "execute_result",
          "data": {
            "text/plain": [
              "<matplotlib.image.AxesImage at 0x7fbbf4e78fd0>"
            ]
          },
          "metadata": {},
          "execution_count": 4
        },
        {
          "output_type": "display_data",
          "data": {
            "text/plain": [
              "<Figure size 640x480 with 1 Axes>"
            ],
            "image/png": "[encoded data removed]"
          },
          "metadata": {}
        }
      ],
      "source": [
        "import matplotlib.pyplot as plt\n",
        "plt.imshow(X_train[0])"
      ]
    },
    {
      "cell_type": "code",
      "execution_count": 5,
      "metadata": {
        "id": "xC9SPn_H8AJ6"
      },
      "outputs": [],
      "source": [
        "X_train = X_train/255"
      ]
    },
    {
      "cell_type": "code",
      "execution_count": 6,
      "metadata": {
        "id": "JT5DRTPu8AJ7"
      },
      "outputs": [],
      "source": [
        "X_test = X_test/255"
      ]
    },
    {
      "cell_type": "code",
      "execution_count": 7,
      "metadata": {
        "id": "6X9OWRSj8AJ7"
      },
      "outputs": [],
      "source": [
        "model = Sequential()\n",
        "\n",
        "model.add(Flatten(input_shape=(28,28)))\n",
        "model.add(Dense(128,activation='relu'))\n",
        "model.add(Dense(32,activation='relu'))\n",
        "model.add(Dense(10,activation='softmax'))"
      ]
    },
    {
      "cell_type": "code",
      "execution_count": 8,
      "metadata": {
        "colab": {
          "base_uri": "https://localhost:8080/"
        },
        "id": "9HefVFgv8AJ8",
        "outputId": "8453c7a6-4205-4111-8ed2-7fc8d16a5e3e"
      },
      "outputs": [
        {
          "output_type": "stream",
          "name": "stdout",
          "text": [
            "Model: \"sequential\"\n",
            "_________________________________________________________________\n",
            " Layer (type)                Output Shape              Param #   \n",
            "=================================================================\n",
            " flatten (Flatten)           (None, 784)               0         \n",
            "                                                                 \n",
            " dense (Dense)               (None, 128)               100480    \n",
            "                                                                 \n",
            " dense_1 (Dense)             (None, 32)                4128      \n",
            "                                                                 \n",
            " dense_2 (Dense)             (None, 10)                330       \n",
            "                                                                 \n",
            "=================================================================\n",
            "Total params: 104,938\n",
            "Trainable params: 104,938\n",
            "Non-trainable params: 0\n",
            "_________________________________________________________________\n"
          ]
        }
      ],
      "source": [
        "model.summary()"
      ]
    },
    {
      "cell_type": "code",
      "execution_count": 9,
      "metadata": {
        "id": "rJcobAMd8AJ8"
      },
      "outputs": [],
      "source": [
        "model.compile(loss='sparse_categorical_crossentropy',optimizer='Adam',metrics=['accuracy'])"
      ]
    },
    {
      "cell_type": "code",
      "execution_count": 10,
      "metadata": {
        "colab": {
          "base_uri": "https://localhost:8080/"
        },
        "id": "v0cY6tUL8AJ9",
        "outputId": "d86c03b1-3c78-48da-a669-9f4b71de1b5e"
      },
      "outputs": [
        {
          "output_type": "stream",
          "name": "stdout",
          "text": [
            "Epoch 1/25\n",
            "1313/1313 [==============================] - 19s 12ms/step - loss: 0.3078 - accuracy: 0.9106 - val_loss: 0.1683 - val_accuracy: 0.9494\n",
            "Epoch 2/25\n",
            "1313/1313 [==============================] - 9s 7ms/step - loss: 0.1292 - accuracy: 0.9614 - val_loss: 0.1362 - val_accuracy: 0.9593\n",
            "Epoch 3/25\n",
            "1313/1313 [==============================] - 9s 7ms/step - loss: 0.0899 - accuracy: 0.9732 - val_loss: 0.1197 - val_accuracy: 0.9654\n",
            "Epoch 4/25\n",
            "1313/1313 [==============================] - 7s 6ms/step - loss: 0.0665 - accuracy: 0.9796 - val_loss: 0.0985 - val_accuracy: 0.9703\n",
            "Epoch 5/25\n",
            "1313/1313 [==============================] - 8s 6ms/step - loss: 0.0526 - accuracy: 0.9830 - val_loss: 0.1251 - val_accuracy: 0.9638\n",
            "Epoch 6/25\n",
            "1313/1313 [==============================] - 9s 7ms/step - loss: 0.0429 - accuracy: 0.9864 - val_loss: 0.1196 - val_accuracy: 0.9668\n",
            "Epoch 7/25\n",
            "1313/1313 [==============================] - 8s 6ms/step - loss: 0.0347 - accuracy: 0.9889 - val_loss: 0.1075 - val_accuracy: 0.9722\n",
            "Epoch 8/25\n",
            "1313/1313 [==============================] - 9s 7ms/step - loss: 0.0263 - accuracy: 0.9917 - val_loss: 0.1092 - val_accuracy: 0.9713\n",
            "Epoch 9/25\n",
            "1313/1313 [==============================] - 9s 7ms/step - loss: 0.0248 - accuracy: 0.9919 - val_loss: 0.1064 - val_accuracy: 0.9738\n",
            "Epoch 10/25\n",
            "1313/1313 [==============================] - 7s 6ms/step - loss: 0.0201 - accuracy: 0.9930 - val_loss: 0.1238 - val_accuracy: 0.9707\n",
            "Epoch 11/25\n",
            "1313/1313 [==============================] - 9s 7ms/step - loss: 0.0172 - accuracy: 0.9945 - val_loss: 0.1319 - val_accuracy: 0.9716\n",
            "Epoch 12/25\n",
            "1313/1313 [==============================] - 10s 7ms/step - loss: 0.0165 - accuracy: 0.9946 - val_loss: 0.1274 - val_accuracy: 0.9728\n",
            "Epoch 13/25\n",
            "1313/1313 [==============================] - 7s 6ms/step - loss: 0.0141 - accuracy: 0.9955 - val_loss: 0.1272 - val_accuracy: 0.9740\n",
            "Epoch 14/25\n",
            "1313/1313 [==============================] - 8s 6ms/step - loss: 0.0127 - accuracy: 0.9959 - val_loss: 0.1435 - val_accuracy: 0.9720\n",
            "Epoch 15/25\n",
            "1313/1313 [==============================] - 9s 7ms/step - loss: 0.0136 - accuracy: 0.9954 - val_loss: 0.1463 - val_accuracy: 0.9712\n",
            "Epoch 16/25\n",
            "1313/1313 [==============================] - 8s 6ms/step - loss: 0.0110 - accuracy: 0.9962 - val_loss: 0.1379 - val_accuracy: 0.9734\n",
            "Epoch 17/25\n",
            "1313/1313 [==============================] - 8s 6ms/step - loss: 0.0101 - accuracy: 0.9966 - val_loss: 0.1499 - val_accuracy: 0.9729\n",
            "Epoch 18/25\n",
            "1313/1313 [==============================] - 7s 6ms/step - loss: 0.0126 - accuracy: 0.9960 - val_loss: 0.1404 - val_accuracy: 0.9745\n",
            "Epoch 19/25\n",
            "1313/1313 [==============================] - 8s 6ms/step - loss: 0.0081 - accuracy: 0.9974 - val_loss: 0.1436 - val_accuracy: 0.9759\n",
            "Epoch 20/25\n",
            "1313/1313 [==============================] - 9s 6ms/step - loss: 0.0104 - accuracy: 0.9968 - val_loss: 0.1660 - val_accuracy: 0.9726\n",
            "Epoch 21/25\n",
            "1313/1313 [==============================] - 8s 6ms/step - loss: 0.0098 - accuracy: 0.9970 - val_loss: 0.1650 - val_accuracy: 0.9734\n",
            "Epoch 22/25\n",
            "1313/1313 [==============================] - 8s 6ms/step - loss: 0.0079 - accuracy: 0.9973 - val_loss: 0.1933 - val_accuracy: 0.9681\n",
            "Epoch 23/25\n",
            "1313/1313 [==============================] - 8s 6ms/step - loss: 0.0093 - accuracy: 0.9969 - val_loss: 0.1615 - val_accuracy: 0.9745\n",
            "Epoch 24/25\n",
            "1313/1313 [==============================] - 7s 6ms/step - loss: 0.0069 - accuracy: 0.9980 - val_loss: 0.1914 - val_accuracy: 0.9696\n",
            "Epoch 25/25\n",
            "1313/1313 [==============================] - 8s 6ms/step - loss: 0.0124 - accuracy: 0.9960 - val_loss: 0.1696 - val_accuracy: 0.9729\n"
          ]
        }
      ],
      "source": [
        "history = model.fit(X_train,y_train,epochs=25,validation_split=0.3)"
      ]
    },
    {
      "cell_type": "code",
      "execution_count": 11,
      "metadata": {
        "colab": {
          "base_uri": "https://localhost:8080/"
        },
        "id": "PKrOSlfz8AJ9",
        "outputId": "00fad6bc-f4ba-4041-ab22-31f998f5209e"
      },
      "outputs": [
        {
          "output_type": "stream",
          "name": "stdout",
          "text": [
            "313/313 [==============================] - 1s 2ms/step\n"
          ]
        }
      ],
      "source": [
        "y_prob = model.predict(X_test)"
      ]
    },
    {
      "cell_type": "code",
      "execution_count": 12,
      "metadata": {
        "id": "hWqAnVl08AJ9"
      },
      "outputs": [],
      "source": [
        "y_pred = y_prob.argmax(axis=1)"
      ]
    },
    {
      "cell_type": "code",
      "execution_count": 13,
      "metadata": {
        "colab": {
          "base_uri": "https://localhost:8080/"
        },
        "id": "Z9iF_AuF8AJ-",
        "outputId": "0957f9c7-bd18-4047-8202-8a65aec05d6e"
      },
      "outputs": [
        {
          "output_type": "execute_result",
          "data": {
            "text/plain": [
              "0.9751"
            ]
          },
          "metadata": {},
          "execution_count": 13
        }
      ],
      "source": [
        "from sklearn.metrics import accuracy_score\n",
        "accuracy_score(y_test,y_pred)"
      ]
    },
    {
      "cell_type": "code",
      "execution_count": 14,
      "metadata": {
        "colab": {
          "base_uri": "https://localhost:8080/",
          "height": 448
        },
        "id": "LhLxeAHF8AJ-",
        "outputId": "2eaf9747-2e3a-45f0-e17d-8e793d2a7725"
      },
      "outputs": [
        {
          "output_type": "execute_result",
          "data": {
            "text/plain": [
              "<matplotlib.image.AxesImage at 0x7fbbc4da35b0>"
            ]
          },
          "metadata": {},
          "execution_count": 14
        },
        {
          "output_type": "display_data",
          "data": {
            "text/plain": [
              "<Figure size 640x480 with 1 Axes>"
            ],
            "image/png": "[encoded data removed]"
          },
          "metadata": {}
        }
      ],
      "source": [
        "plt.imshow(X_test[1])"
      ]
    },
    {
      "cell_type": "code",
      "execution_count": 15,
      "metadata": {
        "colab": {
          "base_uri": "https://localhost:8080/"
        },
        "id": "i2wEQ0Gb8AJ-",
        "outputId": "2ae6ebc9-3301-40da-8132-5c99979d22f7"
      },
      "outputs": [
        {
          "output_type": "stream",
          "name": "stdout",
          "text": [
            "1/1 [==============================] - 0s 26ms/step\n"
          ]
        },
        {
          "output_type": "execute_result",
          "data": {
            "text/plain": [
              "array([2])"
            ]
          },
          "metadata": {},
          "execution_count": 15
        }
      ],
      "source": [
        "model.predict(X_test[1].reshape(1,28,28)).argmax(axis=1)"
      ]
    },
    {
      "cell_type": "code",
      "execution_count": 16,
      "metadata": {
        "colab": {
          "base_uri": "https://localhost:8080/",
          "height": 448
        },
        "id": "o7H17HmW8AJ_",
        "outputId": "20f82995-8cf2-4fd9-e4db-2fa22fa67b46"
      },
      "outputs": [
        {
          "output_type": "execute_result",
          "data": {
            "text/plain": [
              "[<matplotlib.lines.Line2D at 0x7fbbc4cf4a60>]"
            ]
          },
          "metadata": {},
          "execution_count": 16
        },
        {
          "output_type": "display_data",
          "data": {
            "text/plain": [
              "<Figure size 640x480 with 1 Axes>"
            ],
            "image/png": "[encoded data removed]"
          },
          "metadata": {}
        }
      ],
      "source": [
        "plt.plot(history.history['loss'])\n",
        "plt.plot(history.history['val_loss'])"
      ]
    }
  ],
  "metadata": {
    "kernelspec": {
      "display_name": "Python 3",
      "language": "python",
      "name": "python3"
    },
    "language_info": {
      "codemirror_mode": {
        "name": "ipython",
        "version": 3
      },
      "file_extension": ".py",
      "mimetype": "text/x-python",
      "name": "python",
      "nbconvert_exporter": "python",
      "pygments_lexer": "ipython3",
      "version": "3.8.5"
    },
    "colab": {
      "provenance": []
    }
  },
  "nbformat": 4,
  "nbformat_minor": 0
}