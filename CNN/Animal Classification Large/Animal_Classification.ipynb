{
 "cells": [
  {
   "cell_type": "code",
   "execution_count": 1,
   "metadata": {
    "id": "HShbVzXytQPS"
   },
   "outputs": [],
   "source": [
    "from PIL import Image\n",
    "import numpy as np\n",
    "import os\n",
    "import cv2\n",
    "from IPython.display import clear_output"
   ]
  },
  {
   "cell_type": "code",
   "execution_count": 4,
   "metadata": {
    "colab": {
     "base_uri": "https://localhost:8080/"
    },
    "id": "ONGHUoNO0jeb",
    "outputId": "bfa0aad2-662e-4b9c-db56-50d8f43e1576"
   },
   "outputs": [
    {
     "name": "stdout",
     "output_type": "stream",
     "text": [
      "C:\\Users\\akshu\\animals\n"
     ]
    }
   ],
   "source": [
    "cd C:\\Users\\akshu\\animals"
   ]
  },
  {
   "cell_type": "code",
   "execution_count": 5,
   "metadata": {
    "id": "OCrQv4zbvYR6"
   },
   "outputs": [
    {
     "name": "stdout",
     "output_type": "stream",
     "text": [
      "5400\n"
     ]
    }
   ],
   "source": [
    "# Code for making images into array -\n",
    "i = 0\n",
    "data=[]\n",
    "labels=[]\n",
    "categories = ['antelope','badger','bat','bear','bee','beetle','bison','boar','butterfly','cat','caterpillar','chimpanzee','cockroach','cow','coyote','crab',\n",
    "              'crow','deer','dog','dolphin','donkey','dragonfly','duck','eagle','elephant','flamingo','fly','fox','goat','goldfish','goose','gorilla',\n",
    "              'grasshopper','hamster','hare','hedgehog','hippopotamus','hornbill','horse','hummingbird','hyena','jellyfish','kangaroo','koala','ladybugs',\n",
    "              'leopard','lion','lizard','lobster','mosquito','moth','mouse','octopus','okapi','orangutan','otter','owl','ox','oyster','panda','parrot',\n",
    "              'pelecaniformes','penguin','pig','pigeon','porcupine','possum','raccoon','rat','reindeer','rhinoceros','sandpiper','seahorse','seal','shark',\n",
    "              'sheep','snake','sparrow','squid','squirrel','starfish','swan','tiger','turkey','turtle','whale','wolf','wombat','woodpecker','zebra']\n",
    "for label, category in enumerate(categories):\n",
    "    for file in os.listdir(category):\n",
    "        i += 1\n",
    "        img = cv2.imread(os.path.join(category, file))\n",
    "        img = cv2.resize(img, (50, 50))\n",
    "        print(i)\n",
    "        clear_output()\n",
    "        print(i)\n",
    "        data.append(img)\n",
    "        labels.append(label)"
   ]
  },
  {
   "cell_type": "code",
   "execution_count": null,
   "metadata": {},
   "outputs": [],
   "source": []
  },
  {
   "cell_type": "code",
   "execution_count": 5,
   "metadata": {
    "colab": {
     "base_uri": "https://localhost:8080/"
    },
    "id": "Z3BhfFXdFQKz",
    "outputId": "48d006ff-91ed-4db6-cd12-65e8374ca3b3"
   },
   "outputs": [
    {
     "data": {
      "text/plain": [
       "90"
      ]
     },
     "execution_count": 5,
     "metadata": {},
     "output_type": "execute_result"
    }
   ],
   "source": [
    "\n",
    "\n"
   ]
  },
  {
   "cell_type": "code",
   "execution_count": 6,
   "metadata": {
    "id": "x8U9jCBSvbI3"
   },
   "outputs": [],
   "source": [
    "# Since the \"data\" and \"labels\" are normal array , convert them to numpy arrays-\n",
    "\n",
    "animals=np.array(data)\n",
    "labels=np.array(labels)"
   ]
  },
  {
   "cell_type": "code",
   "execution_count": 7,
   "metadata": {
    "id": "D8wkLQawv9nG"
   },
   "outputs": [],
   "source": [
    "# Now save these numpy arrays so that you dont need to do this image manipulation again.\n",
    "\n",
    "np.save(\"animals\",animals)\n",
    "np.save(\"labels\",labels)"
   ]
  },
  {
   "cell_type": "code",
   "execution_count": 15,
   "metadata": {
    "id": "X--txtW_wSJh"
   },
   "outputs": [],
   "source": [
    "# Load the arrays ( Optional : Required only if you have closed your jupyter notebook after saving numpy array )\n",
    "\n",
    "animals=np.load(\"animals.npy\")\n",
    "labels=np.load(\"labels.npy\")"
   ]
  },
  {
   "cell_type": "code",
   "execution_count": null,
   "metadata": {},
   "outputs": [
    {
     "data": {
      "text/plain": [
       "90"
      ]
     },
     "execution_count": 16,
     "metadata": {},
     "output_type": "execute_result"
    }
   ],
   "source": [
    "len(np.unique(labels))"
   ]
  },
  {
   "cell_type": "code",
   "execution_count": null,
   "metadata": {
    "id": "sIVENiefwYXt"
   },
   "outputs": [],
   "source": [
    "# Now shuffle the \"animals\" and \"labels\" set so that we get good mixture when we separate the dataset into train and test\n",
    "\n",
    "s=np.arange(animals.shape[0])\n",
    "np.random.shuffle(s)\n",
    "animals=animals[s]\n",
    "labels=labels[s]"
   ]
  },
  {
   "cell_type": "code",
   "execution_count": 13,
   "metadata": {
    "id": "kBY_33YtweZe"
   },
   "outputs": [],
   "source": [
    "# Make a variable num_classes which is the total number of animal categories and a variable data_length which is size of dataset\n",
    "\n",
    "num_classes=len(np.unique(labels))\n",
    "data_length=len(animals)"
   ]
  },
  {
   "cell_type": "code",
   "execution_count": 14,
   "metadata": {},
   "outputs": [
    {
     "data": {
      "text/plain": [
       "90"
      ]
     },
     "execution_count": 14,
     "metadata": {},
     "output_type": "execute_result"
    }
   ],
   "source": [
    "num_classes"
   ]
  },
  {
   "cell_type": "code",
   "execution_count": null,
   "metadata": {
    "id": "dUmcBAouwgkd"
   },
   "outputs": [],
   "source": [
    "# Divide data into test and train\n",
    "\n",
    "# Take 80% of data in train set and 20% in test set\n",
    "\n",
    "(x_train,x_test)=animals[(int)(0.2*data_length):],animals[:(int)(0.2*data_length)]\n",
    "x_train = x_train.astype('float32')/255\n",
    "x_test = x_test.astype('float32')/255\n",
    "train_length=len(x_train)\n",
    "test_length=len(x_test)"
   ]
  },
  {
   "cell_type": "code",
   "execution_count": null,
   "metadata": {
    "id": "aBu6VALpwsM0"
   },
   "outputs": [],
   "source": [
    "# Divide labels into test and train\n",
    "\n",
    "(y_train,y_test)=labels[(int)(0.2*data_length):],labels[:(int)(0.2*data_length)]"
   ]
  },
  {
   "cell_type": "code",
   "execution_count": null,
   "metadata": {
    "id": "Z_no2L_6wx0W"
   },
   "outputs": [],
   "source": [
    "# Make labels into One Hot Encoding\n",
    "\n",
    "import keras\n",
    "#One hot encoding\n",
    "y_train,y_test=keras.utils.to_categorical(y_train,num_classes)"
   ]
  },
  {
   "cell_type": "code",
   "execution_count": null,
   "metadata": {
    "id": "Midz-tPPw3Xv"
   },
   "outputs": [],
   "source": [
    "# Making Keras Model\n",
    "\n",
    "# import sequential model and all the required layers\n",
    "from keras.models import Sequential\n",
    "from keras.layers import Conv2D,MaxPooling2D,Dense,Flatten,Dropout\n"
   ]
  },
  {
   "cell_type": "code",
   "execution_count": null,
   "metadata": {
    "id": "ETu-eD9Nw6wR"
   },
   "outputs": [],
   "source": [
    "#make model\n",
    "model=Sequential()\n",
    "model.add(Conv2D(filters=64,kernel_size=2,padding=\"same\",activation=\"relu\",input_shape=(50,50,3)))\n",
    "model.add(MaxPooling2D(pool_size=2))\n",
    "model.add(Conv2D(filters=32,kernel_size=2,padding=\"same\",activation=\"relu\"))\n",
    "model.add(MaxPooling2D(pool_size=2))\n",
    "model.add(Conv2D(filters=16,kernel_size=2,padding=\"same\",activation=\"relu\"))\n",
    "model.add(MaxPooling2D(pool_size=2))\n",
    "model.add(Dropout(0.2))\n",
    "model.add(Flatten())\n",
    "model.add(Dense(500,activation=\"relu\"))\n",
    "model.add(Dropout(0.2))\n",
    "model.add(Dense(90,activation=\"softmax\"))\n",
    "model.summary()"
   ]
  },
  {
   "cell_type": "code",
   "execution_count": null,
   "metadata": {
    "id": "Xp9v4ogqw9C_"
   },
   "outputs": [],
   "source": [
    "# compile the model\n",
    "model.compile(loss='categorical_crossentropy', optimizer='adam', metrics=['accuracy'])"
   ]
  },
  {
   "cell_type": "code",
   "execution_count": null,
   "metadata": {
    "id": "AqEwIlKJxAsF"
   },
   "outputs": [],
   "source": [
    "# Train the model\n",
    "model.fit(x_train,y_train,batch_size=30,epochs=100,verbose=1)"
   ]
  },
  {
   "cell_type": "code",
   "execution_count": null,
   "metadata": {
    "id": "DB5COMKoxCnP"
   },
   "outputs": [],
   "source": [
    "# Test the model\n",
    "score = model.evaluate(x_test, y_test, verbose=1)\n",
    "print('\\n', 'Test accuracy:', score[1])"
   ]
  },
  {
   "cell_type": "code",
   "execution_count": null,
   "metadata": {
    "id": "TXs7yIvAxHTM"
   },
   "outputs": [],
   "source": []
  }
 ],
 "metadata": {
  "accelerator": "GPU",
  "colab": {
   "gpuType": "T4",
   "provenance": []
  },
  "gpuClass": "standard",
  "kernelspec": {
   "display_name": "Python 3 (ipykernel)",
   "language": "python",
   "name": "python3"
  },
  "language_info": {
   "codemirror_mode": {
    "name": "ipython",
    "version": 3
   },
   "file_extension": ".py",
   "mimetype": "text/x-python",
   "name": "python",
   "nbconvert_exporter": "python",
   "pygments_lexer": "ipython3",
   "version": "3.10.9"
  }
 },
 "nbformat": 4,
 "nbformat_minor": 1
}
