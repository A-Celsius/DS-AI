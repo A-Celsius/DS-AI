{
 "cells": [
  {
   "cell_type": "code",
   "execution_count": 3,
   "id": "a83a0ad6",
   "metadata": {},
   "outputs": [],
   "source": [
    "import pandas as pd\n",
    "import itertools"
   ]
  },
  {
   "cell_type": "code",
   "execution_count": 4,
   "id": "c1d64e2a",
   "metadata": {},
   "outputs": [],
   "source": [
    "data = pd.read_json(\"./Frames-dataset/frames.json\")"
   ]
  },
  {
   "cell_type": "code",
   "execution_count": 5,
   "id": "53aeabfc",
   "metadata": {},
   "outputs": [
    {
     "data": {
      "text/plain": [
       "user_id                                              U22HTHYNP\n",
       "turns        [{'text': 'I'd like to book a trip to Atlantis...\n",
       "wizard_id                                            U21DKG18C\n",
       "id                        e2c0fc6c-2134-4891-8353-ef16d8412c9a\n",
       "labels       {'userSurveyRating': 4.0, 'wizardSurveyTaskSuc...\n",
       "Name: 0, dtype: object"
      ]
     },
     "execution_count": 5,
     "metadata": {},
     "output_type": "execute_result"
    }
   ],
   "source": [
    "data.iloc[0]"
   ]
  },
  {
   "cell_type": "markdown",
   "id": "b905cd87",
   "metadata": {},
   "source": [
    "### Use turns column"
   ]
  },
  {
   "cell_type": "code",
   "execution_count": 6,
   "id": "f2fe26c3",
   "metadata": {},
   "outputs": [
    {
     "name": "stdout",
     "output_type": "stream",
     "text": [
      "[\"I'd like to book a trip to Atlantis from Caprica on Saturday, August 13, 2016 for 8 adults. I have a tight budget of 1700.\", 'Hi...I checked a few options for you, and unfortunately, we do not currently have any trips that meet this criteria.  Would you like to book an alternate travel option?', 'Yes, how about going to Neverland from Caprica on August 13, 2016 for 5 adults. For this trip, my budget would be 1900.', 'I checked the availability for this date and there were no trips available.  Would you like to select some alternate dates?', 'I have no flexibility for dates... but I can leave from Atlantis rather than Caprica. How about that?', 'I checked the availability for that date and there were no trips available.  Would you like to select some alternate dates?', \"I suppose I'll speak with my husband to see if we can choose other dates, and then I'll come back to you.Thanks for your help\"]\n"
     ]
    }
   ],
   "source": [
    "data['chat'] = data['turns'].apply(lambda x: [item['text']for item in x])\n",
    "print(data['chat'].iloc[0])"
   ]
  },
  {
   "cell_type": "markdown",
   "id": "98039f77",
   "metadata": {},
   "source": [
    "### Using user and bot occurances"
   ]
  },
  {
   "cell_type": "code",
   "execution_count": 7,
   "id": "5e015610",
   "metadata": {},
   "outputs": [
    {
     "name": "stdout",
     "output_type": "stream",
     "text": [
      "[\"I'd like to book a trip to Atlantis from Caprica on Saturday, August 13, 2016 for 8 adults. I have a tight budget of 1700.\", 'Yes, how about going to Neverland from Caprica on August 13, 2016 for 5 adults. For this trip, my budget would be 1900.', 'I have no flexibility for dates... but I can leave from Atlantis rather than Caprica. How about that?', \"I suppose I'll speak with my husband to see if we can choose other dates, and then I'll come back to you.Thanks for your help\"] ['Hi...I checked a few options for you, and unfortunately, we do not currently have any trips that meet this criteria.  Would you like to book an alternate travel option?', 'I checked the availability for this date and there were no trips available.  Would you like to select some alternate dates?', 'I checked the availability for that date and there were no trips available.  Would you like to select some alternate dates?']\n"
     ]
    }
   ],
   "source": [
    "data['user'] = data['chat'].apply(lambda x : x[0::2])\n",
    "data['bot'] = data['chat'].apply(lambda x : x[1::2])\n",
    "print(data['user'].iloc[0],data['bot'].iloc[0])"
   ]
  },
  {
   "cell_type": "code",
   "execution_count": 8,
   "id": "79004190",
   "metadata": {},
   "outputs": [
    {
     "data": {
      "text/plain": [
       "True"
      ]
     },
     "execution_count": 8,
     "metadata": {},
     "output_type": "execute_result"
    }
   ],
   "source": [
    "len(data['user']) == len(data['bot'])"
   ]
  },
  {
   "cell_type": "markdown",
   "id": "55b4d5a2",
   "metadata": {},
   "source": [
    "### Zip the Data"
   ]
  },
  {
   "cell_type": "code",
   "execution_count": 9,
   "id": "d92d5932",
   "metadata": {},
   "outputs": [
    {
     "name": "stdout",
     "output_type": "stream",
     "text": [
      "[(\"I'd like to book a trip to Atlantis from Caprica on Saturday, August 13, 2016 for 8 adults. I have a tight budget of 1700.\", 'Hi...I checked a few options for you, and unfortunately, we do not currently have any trips that meet this criteria.  Would you like to book an alternate travel option?'), ('Yes, how about going to Neverland from Caprica on August 13, 2016 for 5 adults. For this trip, my budget would be 1900.', 'I checked the availability for this date and there were no trips available.  Would you like to select some alternate dates?'), ('I have no flexibility for dates... but I can leave from Atlantis rather than Caprica. How about that?', 'I checked the availability for that date and there were no trips available.  Would you like to select some alternate dates?'), (\"I suppose I'll speak with my husband to see if we can choose other dates, and then I'll come back to you.Thanks for your help\", '')]\n"
     ]
    }
   ],
   "source": [
    "dataset = data.apply(lambda x : list(itertools.zip_longest(x['user'],x['bot'],fillvalue='')),axis=1)\n",
    "print(dataset.iloc[0])"
   ]
  },
  {
   "cell_type": "markdown",
   "id": "4c75e6db",
   "metadata": {},
   "source": [
    "### Create one full dataset of all the user and bot conversation pair"
   ]
  },
  {
   "cell_type": "code",
   "execution_count": 10,
   "id": "e0068f0b",
   "metadata": {},
   "outputs": [],
   "source": [
    "all_convos = []\n",
    "_= dataset.apply(lambda x : all_convos.extend(x))"
   ]
  },
  {
   "cell_type": "markdown",
   "id": "b73c328d",
   "metadata": {},
   "source": [
    "### Save data using to_csv"
   ]
  },
  {
   "cell_type": "code",
   "execution_count": 22,
   "id": "c9bd93fd",
   "metadata": {},
   "outputs": [],
   "source": [
    "df = pd.DataFrame(all_convos)"
   ]
  },
  {
   "cell_type": "code",
   "execution_count": 15,
   "id": "a6f9aaa8",
   "metadata": {},
   "outputs": [],
   "source": [
    "df.to_csv('frames.csv')"
   ]
  }
 ],
 "metadata": {
  "kernelspec": {
   "display_name": "Python 3 (ipykernel)",
   "language": "python",
   "name": "python3"
  },
  "language_info": {
   "codemirror_mode": {
    "name": "ipython",
    "version": 3
   },
   "file_extension": ".py",
   "mimetype": "text/x-python",
   "name": "python",
   "nbconvert_exporter": "python",
   "pygments_lexer": "ipython3",
   "version": "3.10.9"
  }
 },
 "nbformat": 4,
 "nbformat_minor": 5
}
