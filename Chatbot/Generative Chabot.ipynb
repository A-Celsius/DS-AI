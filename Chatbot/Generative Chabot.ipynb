{
 "cells": [
  {
   "cell_type": "code",
   "execution_count": 1,
   "id": "c5e48894",
   "metadata": {},
   "outputs": [],
   "source": [
    "import numpy as np\n",
    "import pandas as pd\n",
    " \n",
    "from sklearn.model_selection import train_test_split\n",
    "from sklearn.preprocessing import LabelEncoder\n",
    "from sklearn.feature_extraction.text import CountVectorizer\n",
    "\n",
    "from nltk.stem import PorterStemmer\n",
    "from autocorrect import Speller\n",
    "\n",
    "import os\n",
    "import re"
   ]
  },
  {
   "cell_type": "code",
   "execution_count": 2,
   "id": "630b856c",
   "metadata": {},
   "outputs": [],
   "source": [
    "import tensorflow as tf\n",
    "from tensorboard.plugins import projector\n",
    "sconfig = projector.ProjectorConfig()"
   ]
  },
  {
   "cell_type": "code",
   "execution_count": 32,
   "id": "07e67d4b",
   "metadata": {},
   "outputs": [],
   "source": [
    "MAX_LEN  = 25\n",
    "BATCH_SIZE = 64\n",
    "NUM_EPOCHS = 10000\n",
    "\n",
    "spell = Speller(lang='en')\n",
    "\n",
    "stemmer = PorterStemmer()\n",
    "def process_str(string, bot_input=False, bot_output=False):\n",
    "    string = string.strip().lower()\n",
    "    string = re.sub(r\"[^A-Za-z0-9(),!?\\'\\`:]\", \" \", string)\n",
    "    string = re.sub(r\"\\'s\", \" \\'s\",string)\n",
    "    string = re.sub(r\"\\'ve\", \" \\'ve\",string)\n",
    "    string = re.sub(r\"n\\'t\", \" n\\'t\",string)\n",
    "    string = re.sub(r\"\\'re\", \" \\'re\",string)\n",
    "    string = re.sub(r\"\\'d\", \" \\'d\",string)\n",
    "    string = re.sub(r\"\\'ll\", \" \\'ll\",string)\n",
    "    string = re.sub(r\",\", \" , \",string)\n",
    "    string = re.sub(r\"!\", \" ! \",string)\n",
    "    string = re.sub(r\"\\s{2,}\", \" \",string)\n",
    "    string = string.split(\" \")\n",
    "    string = [re.sub(r\"[0-9]+\", \"NUM\", token) for token in string]\n",
    "    string = [stemmer.stem(re.sub(r'(.)\\1+',r'\\1\\1',token)) for token in string]\n",
    "    string = [spell.autocorrect_word(token).lower() for token in string]\n",
    "    \n",
    "    while True:\n",
    "        try:\n",
    "            string.remove(\"\")\n",
    "        except:\n",
    "            break\n",
    "    if(not bot_input and not bot_output):\n",
    "        string = string[0:MAX_LEN]\n",
    "    elif(bot_input):\n",
    "        string = string[0:MAX_LEN-1]\n",
    "        string.insert(0,\"</start>\")\n",
    "    else:\n",
    "        string = string[0:MAX_LEN-1]\n",
    "        string.insert(len(string),\"</end>\")\n",
    "    old_len = len(string)\n",
    "    for i in range((MAX_LEN) - len(string)):\n",
    "        string.append(\" </pad> \")\n",
    "    string = re.sub(\"\\s+\", \" \", \" \".join(string)).strip()\n",
    "    return string, old_len\n"
   ]
  },
  {
   "cell_type": "markdown",
   "id": "bb331bfe",
   "metadata": {},
   "source": [
    "### LOAD DATA"
   ]
  },
  {
   "cell_type": "code",
   "execution_count": 33,
   "id": "b50a1ec2",
   "metadata": {},
   "outputs": [],
   "source": [
    "data = cPickle.load(open(\"all_convos.pkl\",\"rb\"))"
   ]
  },
  {
   "cell_type": "code",
   "execution_count": 34,
   "id": "94b3d346",
   "metadata": {},
   "outputs": [
    {
     "data": {
      "text/plain": [
       "10407"
      ]
     },
     "execution_count": 34,
     "metadata": {},
     "output_type": "execute_result"
    }
   ],
   "source": [
    "len(data)"
   ]
  },
  {
   "cell_type": "code",
   "execution_count": 35,
   "id": "97bceea8",
   "metadata": {},
   "outputs": [],
   "source": [
    "user = [item[0] for item in data]\n",
    "bot = [item[1] for item in data]"
   ]
  },
  {
   "cell_type": "code",
   "execution_count": 36,
   "id": "1c9e7550",
   "metadata": {},
   "outputs": [
    {
     "data": {
      "text/plain": [
       "[\"I'd like to book a trip to Atlantis from Caprica on Saturday, August 13, 2016 for 8 adults. I have a tight budget of 1700.\",\n",
       " 'Yes, how about going to Neverland from Caprica on August 13, 2016 for 5 adults. For this trip, my budget would be 1900.',\n",
       " 'I have no flexibility for dates... but I can leave from Atlantis rather than Caprica. How about that?',\n",
       " \"I suppose I'll speak with my husband to see if we can choose other dates, and then I'll come back to you.Thanks for your help\",\n",
       " 'Hello, I am looking to book a vacation from Gotham City to Mos Eisley for $2100.']"
      ]
     },
     "execution_count": 36,
     "metadata": {},
     "output_type": "execute_result"
    }
   ],
   "source": [
    "user[:5]"
   ]
  },
  {
   "cell_type": "code",
   "execution_count": 37,
   "id": "9ccb6b19",
   "metadata": {},
   "outputs": [
    {
     "data": {
      "text/plain": [
       "['Hi...I checked a few options for you, and unfortunately, we do not currently have any trips that meet this criteria.  Would you like to book an alternate travel option?',\n",
       " 'I checked the availability for this date and there were no trips available.  Would you like to select some alternate dates?',\n",
       " 'I checked the availability for that date and there were no trips available.  Would you like to select some alternate dates?',\n",
       " '',\n",
       " \"Hi. Sorry, I can't find any trips from Gotham City to Mos Eisley for you.\"]"
      ]
     },
     "execution_count": 37,
     "metadata": {},
     "output_type": "execute_result"
    }
   ],
   "source": [
    "bot[:5]"
   ]
  },
  {
   "cell_type": "markdown",
   "id": "25e7263e",
   "metadata": {},
   "source": [
    "### Preprocessing"
   ]
  },
  {
   "cell_type": "code",
   "execution_count": 38,
   "id": "f1680565",
   "metadata": {},
   "outputs": [
    {
     "ename": "KeyboardInterrupt",
     "evalue": "",
     "output_type": "error",
     "traceback": [
      "\u001b[1;31m---------------------------------------------------------------------------\u001b[0m",
      "\u001b[1;31mKeyboardInterrupt\u001b[0m                         Traceback (most recent call last)",
      "Cell \u001b[1;32mIn[38], line 4\u001b[0m\n\u001b[0;32m      2\u001b[0m     user \u001b[38;5;241m=\u001b[39m cPickle\u001b[38;5;241m.\u001b[39mload(\u001b[38;5;28mopen\u001b[39m(\u001b[38;5;124m\"\u001b[39m\u001b[38;5;124muser_processed.pkl\u001b[39m\u001b[38;5;124m\"\u001b[39m, \u001b[38;5;124m\"\u001b[39m\u001b[38;5;124mrb\u001b[39m\u001b[38;5;124m\"\u001b[39m))\n\u001b[0;32m      3\u001b[0m \u001b[38;5;28;01melse\u001b[39;00m:\n\u001b[1;32m----> 4\u001b[0m     user \u001b[38;5;241m=\u001b[39m [process_str(item) \u001b[38;5;28;01mfor\u001b[39;00m item \u001b[38;5;129;01min\u001b[39;00m user]\n\u001b[0;32m      5\u001b[0m     cPickle\u001b[38;5;241m.\u001b[39mdump(user, \u001b[38;5;28mopen\u001b[39m(\u001b[38;5;124m\"\u001b[39m\u001b[38;5;124muser_processed.pkl\u001b[39m\u001b[38;5;124m\"\u001b[39m, \u001b[38;5;124m\"\u001b[39m\u001b[38;5;124mwb\u001b[39m\u001b[38;5;124m\"\u001b[39m))\n\u001b[0;32m      7\u001b[0m \u001b[38;5;28;01mif\u001b[39;00m(os\u001b[38;5;241m.\u001b[39mpath\u001b[38;5;241m.\u001b[39misfile(\u001b[38;5;124m\"\u001b[39m\u001b[38;5;124mbot_in_processed.pkl\u001b[39m\u001b[38;5;124m\"\u001b[39m)):\n",
      "Cell \u001b[1;32mIn[38], line 4\u001b[0m, in \u001b[0;36m<listcomp>\u001b[1;34m(.0)\u001b[0m\n\u001b[0;32m      2\u001b[0m     user \u001b[38;5;241m=\u001b[39m cPickle\u001b[38;5;241m.\u001b[39mload(\u001b[38;5;28mopen\u001b[39m(\u001b[38;5;124m\"\u001b[39m\u001b[38;5;124muser_processed.pkl\u001b[39m\u001b[38;5;124m\"\u001b[39m, \u001b[38;5;124m\"\u001b[39m\u001b[38;5;124mrb\u001b[39m\u001b[38;5;124m\"\u001b[39m))\n\u001b[0;32m      3\u001b[0m \u001b[38;5;28;01melse\u001b[39;00m:\n\u001b[1;32m----> 4\u001b[0m     user \u001b[38;5;241m=\u001b[39m [\u001b[43mprocess_str\u001b[49m\u001b[43m(\u001b[49m\u001b[43mitem\u001b[49m\u001b[43m)\u001b[49m \u001b[38;5;28;01mfor\u001b[39;00m item \u001b[38;5;129;01min\u001b[39;00m user]\n\u001b[0;32m      5\u001b[0m     cPickle\u001b[38;5;241m.\u001b[39mdump(user, \u001b[38;5;28mopen\u001b[39m(\u001b[38;5;124m\"\u001b[39m\u001b[38;5;124muser_processed.pkl\u001b[39m\u001b[38;5;124m\"\u001b[39m, \u001b[38;5;124m\"\u001b[39m\u001b[38;5;124mwb\u001b[39m\u001b[38;5;124m\"\u001b[39m))\n\u001b[0;32m      7\u001b[0m \u001b[38;5;28;01mif\u001b[39;00m(os\u001b[38;5;241m.\u001b[39mpath\u001b[38;5;241m.\u001b[39misfile(\u001b[38;5;124m\"\u001b[39m\u001b[38;5;124mbot_in_processed.pkl\u001b[39m\u001b[38;5;124m\"\u001b[39m)):\n",
      "Cell \u001b[1;32mIn[32], line 23\u001b[0m, in \u001b[0;36mprocess_str\u001b[1;34m(string, bot_input, bot_output)\u001b[0m\n\u001b[0;32m     21\u001b[0m string \u001b[38;5;241m=\u001b[39m [re\u001b[38;5;241m.\u001b[39msub(\u001b[38;5;124mr\u001b[39m\u001b[38;5;124m\"\u001b[39m\u001b[38;5;124m[0-9]+\u001b[39m\u001b[38;5;124m\"\u001b[39m, \u001b[38;5;124m\"\u001b[39m\u001b[38;5;124mNUM\u001b[39m\u001b[38;5;124m\"\u001b[39m, token) \u001b[38;5;28;01mfor\u001b[39;00m token \u001b[38;5;129;01min\u001b[39;00m string]\n\u001b[0;32m     22\u001b[0m string \u001b[38;5;241m=\u001b[39m [stemmer\u001b[38;5;241m.\u001b[39mstem(re\u001b[38;5;241m.\u001b[39msub(\u001b[38;5;124mr\u001b[39m\u001b[38;5;124m'\u001b[39m\u001b[38;5;124m(.)\u001b[39m\u001b[38;5;124m\\\u001b[39m\u001b[38;5;124m1+\u001b[39m\u001b[38;5;124m'\u001b[39m,\u001b[38;5;124mr\u001b[39m\u001b[38;5;124m'\u001b[39m\u001b[38;5;124m\\\u001b[39m\u001b[38;5;124m1\u001b[39m\u001b[38;5;124m\\\u001b[39m\u001b[38;5;124m1\u001b[39m\u001b[38;5;124m'\u001b[39m,token)) \u001b[38;5;28;01mfor\u001b[39;00m token \u001b[38;5;129;01min\u001b[39;00m string]\n\u001b[1;32m---> 23\u001b[0m string \u001b[38;5;241m=\u001b[39m [spell\u001b[38;5;241m.\u001b[39mautocorrect_word(token)\u001b[38;5;241m.\u001b[39mlower() \u001b[38;5;28;01mfor\u001b[39;00m token \u001b[38;5;129;01min\u001b[39;00m string]\n\u001b[0;32m     25\u001b[0m \u001b[38;5;28;01mwhile\u001b[39;00m \u001b[38;5;28;01mTrue\u001b[39;00m:\n\u001b[0;32m     26\u001b[0m     \u001b[38;5;28;01mtry\u001b[39;00m:\n",
      "Cell \u001b[1;32mIn[32], line 23\u001b[0m, in \u001b[0;36m<listcomp>\u001b[1;34m(.0)\u001b[0m\n\u001b[0;32m     21\u001b[0m string \u001b[38;5;241m=\u001b[39m [re\u001b[38;5;241m.\u001b[39msub(\u001b[38;5;124mr\u001b[39m\u001b[38;5;124m\"\u001b[39m\u001b[38;5;124m[0-9]+\u001b[39m\u001b[38;5;124m\"\u001b[39m, \u001b[38;5;124m\"\u001b[39m\u001b[38;5;124mNUM\u001b[39m\u001b[38;5;124m\"\u001b[39m, token) \u001b[38;5;28;01mfor\u001b[39;00m token \u001b[38;5;129;01min\u001b[39;00m string]\n\u001b[0;32m     22\u001b[0m string \u001b[38;5;241m=\u001b[39m [stemmer\u001b[38;5;241m.\u001b[39mstem(re\u001b[38;5;241m.\u001b[39msub(\u001b[38;5;124mr\u001b[39m\u001b[38;5;124m'\u001b[39m\u001b[38;5;124m(.)\u001b[39m\u001b[38;5;124m\\\u001b[39m\u001b[38;5;124m1+\u001b[39m\u001b[38;5;124m'\u001b[39m,\u001b[38;5;124mr\u001b[39m\u001b[38;5;124m'\u001b[39m\u001b[38;5;124m\\\u001b[39m\u001b[38;5;124m1\u001b[39m\u001b[38;5;124m\\\u001b[39m\u001b[38;5;124m1\u001b[39m\u001b[38;5;124m'\u001b[39m,token)) \u001b[38;5;28;01mfor\u001b[39;00m token \u001b[38;5;129;01min\u001b[39;00m string]\n\u001b[1;32m---> 23\u001b[0m string \u001b[38;5;241m=\u001b[39m [\u001b[43mspell\u001b[49m\u001b[38;5;241;43m.\u001b[39;49m\u001b[43mautocorrect_word\u001b[49m\u001b[43m(\u001b[49m\u001b[43mtoken\u001b[49m\u001b[43m)\u001b[49m\u001b[38;5;241m.\u001b[39mlower() \u001b[38;5;28;01mfor\u001b[39;00m token \u001b[38;5;129;01min\u001b[39;00m string]\n\u001b[0;32m     25\u001b[0m \u001b[38;5;28;01mwhile\u001b[39;00m \u001b[38;5;28;01mTrue\u001b[39;00m:\n\u001b[0;32m     26\u001b[0m     \u001b[38;5;28;01mtry\u001b[39;00m:\n",
      "File \u001b[1;32m~\\anaconda3\\lib\\site-packages\\autocorrect\\__init__.py:114\u001b[0m, in \u001b[0;36mSpeller.autocorrect_word\u001b[1;34m(self, word)\u001b[0m\n\u001b[0;32m    111\u001b[0m \u001b[38;5;28;01mif\u001b[39;00m word \u001b[38;5;241m==\u001b[39m \u001b[38;5;124m\"\u001b[39m\u001b[38;5;124m\"\u001b[39m:\n\u001b[0;32m    112\u001b[0m     \u001b[38;5;28;01mreturn\u001b[39;00m \u001b[38;5;124m\"\u001b[39m\u001b[38;5;124m\"\u001b[39m\n\u001b[1;32m--> 114\u001b[0m candidates \u001b[38;5;241m=\u001b[39m \u001b[38;5;28;43mself\u001b[39;49m\u001b[38;5;241;43m.\u001b[39;49m\u001b[43mget_candidates\u001b[49m\u001b[43m(\u001b[49m\u001b[43mword\u001b[49m\u001b[43m)\u001b[49m\n\u001b[0;32m    116\u001b[0m \u001b[38;5;66;03m# in case the word is capitalized\u001b[39;00m\n\u001b[0;32m    117\u001b[0m \u001b[38;5;28;01mif\u001b[39;00m word[\u001b[38;5;241m0\u001b[39m]\u001b[38;5;241m.\u001b[39misupper():\n",
      "File \u001b[1;32m~\\anaconda3\\lib\\site-packages\\autocorrect\\__init__.py:104\u001b[0m, in \u001b[0;36mSpeller.get_candidates\u001b[1;34m(self, word)\u001b[0m\n\u001b[0;32m     99\u001b[0m     candidates \u001b[38;5;241m=\u001b[39m \u001b[38;5;28mself\u001b[39m\u001b[38;5;241m.\u001b[39mexisting([word]) \u001b[38;5;129;01mor\u001b[39;00m \u001b[38;5;28mself\u001b[39m\u001b[38;5;241m.\u001b[39mexisting(w\u001b[38;5;241m.\u001b[39mtypos()) \u001b[38;5;129;01mor\u001b[39;00m [word]\n\u001b[0;32m    100\u001b[0m \u001b[38;5;28;01melse\u001b[39;00m:\n\u001b[0;32m    101\u001b[0m     candidates \u001b[38;5;241m=\u001b[39m (\n\u001b[0;32m    102\u001b[0m         \u001b[38;5;28mself\u001b[39m\u001b[38;5;241m.\u001b[39mexisting([word])\n\u001b[0;32m    103\u001b[0m         \u001b[38;5;129;01mor\u001b[39;00m \u001b[38;5;28mself\u001b[39m\u001b[38;5;241m.\u001b[39mexisting(w\u001b[38;5;241m.\u001b[39mtypos())\n\u001b[1;32m--> 104\u001b[0m         \u001b[38;5;129;01mor\u001b[39;00m \u001b[38;5;28;43mself\u001b[39;49m\u001b[38;5;241;43m.\u001b[39;49m\u001b[43mexisting\u001b[49m\u001b[43m(\u001b[49m\u001b[43mw\u001b[49m\u001b[38;5;241;43m.\u001b[39;49m\u001b[43mdouble_typos\u001b[49m\u001b[43m(\u001b[49m\u001b[43m)\u001b[49m\u001b[43m)\u001b[49m\n\u001b[0;32m    105\u001b[0m         \u001b[38;5;129;01mor\u001b[39;00m [word]\n\u001b[0;32m    106\u001b[0m     )\n\u001b[0;32m    107\u001b[0m \u001b[38;5;28;01mreturn\u001b[39;00m [(\u001b[38;5;28mself\u001b[39m\u001b[38;5;241m.\u001b[39mnlp_data\u001b[38;5;241m.\u001b[39mget(c, \u001b[38;5;241m0\u001b[39m), c) \u001b[38;5;28;01mfor\u001b[39;00m c \u001b[38;5;129;01min\u001b[39;00m candidates]\n",
      "File \u001b[1;32m~\\anaconda3\\lib\\site-packages\\autocorrect\\__init__.py:94\u001b[0m, in \u001b[0;36mSpeller.existing\u001b[1;34m(self, words)\u001b[0m\n\u001b[0;32m     92\u001b[0m \u001b[38;5;28;01mdef\u001b[39;00m \u001b[38;5;21mexisting\u001b[39m(\u001b[38;5;28mself\u001b[39m, words):\n\u001b[0;32m     93\u001b[0m     \u001b[38;5;124;03m\"\"\"{'the', 'teh'} => {'the'}\"\"\"\u001b[39;00m\n\u001b[1;32m---> 94\u001b[0m     \u001b[38;5;28;01mreturn\u001b[39;00m {word \u001b[38;5;28;01mfor\u001b[39;00m word \u001b[38;5;129;01min\u001b[39;00m words \u001b[38;5;28;01mif\u001b[39;00m word \u001b[38;5;129;01min\u001b[39;00m \u001b[38;5;28mself\u001b[39m\u001b[38;5;241m.\u001b[39mnlp_data}\n",
      "File \u001b[1;32m~\\anaconda3\\lib\\site-packages\\autocorrect\\__init__.py:94\u001b[0m, in \u001b[0;36m<setcomp>\u001b[1;34m(.0)\u001b[0m\n\u001b[0;32m     92\u001b[0m \u001b[38;5;28;01mdef\u001b[39;00m \u001b[38;5;21mexisting\u001b[39m(\u001b[38;5;28mself\u001b[39m, words):\n\u001b[0;32m     93\u001b[0m     \u001b[38;5;124;03m\"\"\"{'the', 'teh'} => {'the'}\"\"\"\u001b[39;00m\n\u001b[1;32m---> 94\u001b[0m     \u001b[38;5;28;01mreturn\u001b[39;00m {word \u001b[38;5;28;01mfor\u001b[39;00m word \u001b[38;5;129;01min\u001b[39;00m words \u001b[38;5;28;01mif\u001b[39;00m word \u001b[38;5;129;01min\u001b[39;00m \u001b[38;5;28mself\u001b[39m\u001b[38;5;241m.\u001b[39mnlp_data}\n",
      "File \u001b[1;32m~\\anaconda3\\lib\\site-packages\\autocorrect\\typos.py:62\u001b[0m, in \u001b[0;36mWord._inserts\u001b[1;34m(self)\u001b[0m\n\u001b[0;32m     60\u001b[0m \u001b[38;5;28;01mfor\u001b[39;00m a, b \u001b[38;5;129;01min\u001b[39;00m \u001b[38;5;28mself\u001b[39m\u001b[38;5;241m.\u001b[39mslices:\n\u001b[0;32m     61\u001b[0m     \u001b[38;5;28;01mfor\u001b[39;00m c \u001b[38;5;129;01min\u001b[39;00m \u001b[38;5;28mself\u001b[39m\u001b[38;5;241m.\u001b[39malphabet:\n\u001b[1;32m---> 62\u001b[0m         \u001b[38;5;28;01myield\u001b[39;00m \u001b[38;5;124m\"\u001b[39m\u001b[38;5;124m\"\u001b[39m\u001b[38;5;241m.\u001b[39mjoin((a, c, b))\n",
      "\u001b[1;31mKeyboardInterrupt\u001b[0m: "
     ]
    }
   ],
   "source": [
    "if(os.path.isfile(\"user_processed.pkl\")):\n",
    "    user = cPickle.load(open(\"user_processed.pkl\", \"rb\"))\n",
    "else:\n",
    "    user = [process_str(item) for item in user]\n",
    "    cPickle.dump(user, open(\"user_processed.pkl\", \"wb\"))\n",
    "\n",
    "if(os.path.isfile(\"bot_in_processed.pkl\")):\n",
    "    bot_inputs = cPickle.load(open(\"bot_in_processed.pkl\", \"rb\"))\n",
    "else:\n",
    "    bot_inputs = [process_str(item, bot_input=True) for item in bot]\n",
    "    cPickle.dump(bot_inputs, open(\"bot_in_processed.pkl\", \"wb\"))\n",
    "\n",
    "if(os.path.isfile(\"bot_out_processed.pkl\")):\n",
    "    bot_outputs = cPickle.load(open(\"bot_out_processed.pkl\", \"rb\"))\n",
    "else:\n",
    "    bot_outputs = [process_str(item, bot_output=True) for item in bot]\n",
    "    cPickle.dump(bot_outputs, open(\"bot_out_processed.pkl\", \"wb\"))\n",
    "    \n",
    "    \n",
    "user_lens = [message[1] for message in user]\n",
    "user = [message[0] for message in user]\n",
    "\n",
    "bot_inp_lens = [message[1] for message in bot_inputs]\n",
    "bot_out_lens = [message[1] for message in bot_outputs]\n",
    "\n",
    "bot_inputs = [message[0] for message in bot_inputs]\n",
    "bot_outputs = [message[0] for message in bot_outputs]"
   ]
  },
  {
   "cell_type": "code",
   "execution_count": null,
   "id": "69f3b0fe",
   "metadata": {},
   "outputs": [],
   "source": []
  },
  {
   "cell_type": "code",
   "execution_count": null,
   "id": "44680e0c",
   "metadata": {},
   "outputs": [],
   "source": []
  },
  {
   "cell_type": "code",
   "execution_count": null,
   "id": "ba5bad3a",
   "metadata": {},
   "outputs": [],
   "source": []
  },
  {
   "cell_type": "code",
   "execution_count": null,
   "id": "63d9c72d",
   "metadata": {},
   "outputs": [],
   "source": []
  },
  {
   "cell_type": "code",
   "execution_count": null,
   "id": "c5b5a300",
   "metadata": {},
   "outputs": [],
   "source": []
  }
 ],
 "metadata": {
  "kernelspec": {
   "display_name": "Python 3 (ipykernel)",
   "language": "python",
   "name": "python3"
  },
  "language_info": {
   "codemirror_mode": {
    "name": "ipython",
    "version": 3
   },
   "file_extension": ".py",
   "mimetype": "text/x-python",
   "name": "python",
   "nbconvert_exporter": "python",
   "pygments_lexer": "ipython3",
   "version": "3.10.9"
  }
 },
 "nbformat": 4,
 "nbformat_minor": 5
}
