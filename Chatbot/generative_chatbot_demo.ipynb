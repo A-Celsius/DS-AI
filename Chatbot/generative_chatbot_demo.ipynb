{
  "metadata": {
    "kernelspec": {
      "language": "python",
      "display_name": "Python 3",
      "name": "python3"
    },
    "language_info": {
      "name": "python",
      "version": "3.7.12",
      "mimetype": "text/x-python",
      "codemirror_mode": {
        "name": "ipython",
        "version": 3
      },
      "pygments_lexer": "ipython3",
      "nbconvert_exporter": "python",
      "file_extension": ".py"
    },
    "colab": {
      "provenance": [],
      "private_outputs": true
    },
    "accelerator": "GPU",
    "gpuClass": "standard"
  },
  "nbformat_minor": 0,
  "nbformat": 4,
  "cells": [
    {
      "cell_type": "code",
      "source": [
        "import numpy as np \n",
        "import pandas as pd\n",
        "import matplotlib.pyplot as plt\n",
        "import tensorflow as tf\n",
        "import keras \n",
        "from keras.layers import Dense\n",
        "import json \n",
        "import re\n",
        "import string\n",
        "from sklearn.feature_extraction.text import TfidfVectorizer\n",
        "import unicodedata\n",
        "from sklearn.model_selection import train_test_split"
      ],
      "metadata": {
        "execution": {
          "iopub.status.busy": "2023-04-20T19:18:44.094179Z",
          "iopub.execute_input": "2023-04-20T19:18:44.094675Z",
          "iopub.status.idle": "2023-04-20T19:18:44.103745Z",
          "shell.execute_reply.started": "2023-04-20T19:18:44.094638Z",
          "shell.execute_reply": "2023-04-20T19:18:44.102124Z"
        },
        "trusted": true,
        "id": "aiiOgAqXHcMb"
      },
      "execution_count": null,
      "outputs": []
    },
    {
      "cell_type": "code",
      "source": [
        "data = pd.read_csv('frames.csv')"
      ],
      "metadata": {
        "id": "ssKI-yRKjBfx"
      },
      "execution_count": null,
      "outputs": []
    },
    {
      "cell_type": "code",
      "source": [
        "data.isnull().sum()"
      ],
      "metadata": {
        "id": "hpSW5pEtjBb2"
      },
      "execution_count": null,
      "outputs": []
    },
    {
      "cell_type": "code",
      "source": [
        "data = data.dropna()"
      ],
      "metadata": {
        "id": "1RD2uinijBW7"
      },
      "execution_count": null,
      "outputs": []
    },
    {
      "cell_type": "code",
      "source": [
        "data.rename(columns = {'0':'question','1':'answer'}, inplace = True)"
      ],
      "metadata": {
        "id": "bdImXTi-jBTv"
      },
      "execution_count": null,
      "outputs": []
    },
    {
      "cell_type": "code",
      "source": [
        "data.head()"
      ],
      "metadata": {
        "execution": {
          "iopub.status.busy": "2023-04-20T19:18:44.204358Z",
          "iopub.execute_input": "2023-04-20T19:18:44.205885Z",
          "iopub.status.idle": "2023-04-20T19:18:44.235680Z",
          "shell.execute_reply.started": "2023-04-20T19:18:44.205815Z",
          "shell.execute_reply": "2023-04-20T19:18:44.234160Z"
        },
        "trusted": true,
        "id": "Eki4sKnBHcMu"
      },
      "execution_count": null,
      "outputs": []
    },
    {
      "cell_type": "code",
      "source": [
        "def unicode_to_ascii(s):\n",
        "    return ''.join(c for c in unicodedata.normalize('NFD', s)\n",
        "      if unicodedata.category(c) != 'Mn')"
      ],
      "metadata": {
        "execution": {
          "iopub.status.busy": "2023-04-20T19:18:44.237803Z",
          "iopub.execute_input": "2023-04-20T19:18:44.238345Z",
          "iopub.status.idle": "2023-04-20T19:18:44.245768Z",
          "shell.execute_reply.started": "2023-04-20T19:18:44.238263Z",
          "shell.execute_reply": "2023-04-20T19:18:44.244385Z"
        },
        "trusted": true,
        "id": "nnP-Q19qHcMw"
      },
      "execution_count": null,
      "outputs": []
    },
    {
      "cell_type": "code",
      "source": [
        "def clean_text(text):\n",
        "    text = unicode_to_ascii(text.lower().strip())\n",
        "    text = re.sub(r\"i'm\", \"i am\", text)\n",
        "    text = re.sub(r\"\\r\", \"\", text)\n",
        "    text = re.sub(r\"he's\", \"he is\", text)\n",
        "    text = re.sub(r\"she's\", \"she is\", text)\n",
        "    text = re.sub(r\"it's\", \"it is\", text)\n",
        "    text = re.sub(r\"that's\", \"that is\", text)\n",
        "    text = re.sub(r\"what's\", \"that is\", text)\n",
        "    text = re.sub(r\"where's\", \"where is\", text)\n",
        "    text = re.sub(r\"how's\", \"how is\", text)\n",
        "    text = re.sub(r\"\\'ll\", \" will\", text)\n",
        "    text = re.sub(r\"\\'ve\", \" have\", text)\n",
        "    text = re.sub(r\"\\'re\", \" are\", text)\n",
        "    text = re.sub(r\"\\'d\", \" would\", text)\n",
        "    text = re.sub(r\"\\'re\", \" are\", text)\n",
        "    text = re.sub(r\"won't\", \"will not\", text)\n",
        "    text = re.sub(r\"can't\", \"cannot\", text)\n",
        "    text = re.sub(r\"n't\", \" not\", text)\n",
        "    text = re.sub(r\"n'\", \"ng\", text)\n",
        "    text = re.sub(r\"'bout\", \"about\", text)\n",
        "    text = re.sub(r\"'til\", \"until\", text)\n",
        "    text = re.sub(r\"[-()\\\"#/@;:<>{}`+=~|.!?,]\", \"\", text)\n",
        "    text = text.translate(str.maketrans('', '', string.punctuation)) \n",
        "    text = re.sub(\"(\\\\W)\",\" \",text) \n",
        "    text = re.sub('\\S*\\d\\S*\\s*','', text)\n",
        "    text =  \"<sos> \" +  text + \" <eos>\"\n",
        "    return text\n",
        "    "
      ],
      "metadata": {
        "execution": {
          "iopub.status.busy": "2023-04-20T19:18:44.247818Z",
          "iopub.execute_input": "2023-04-20T19:18:44.248661Z",
          "iopub.status.idle": "2023-04-20T19:18:44.265915Z",
          "shell.execute_reply.started": "2023-04-20T19:18:44.248608Z",
          "shell.execute_reply": "2023-04-20T19:18:44.264363Z"
        },
        "trusted": true,
        "id": "RChDuGpcHcMy"
      },
      "execution_count": null,
      "outputs": []
    },
    {
      "cell_type": "code",
      "source": [
        "data[\"question\"][0]"
      ],
      "metadata": {
        "execution": {
          "iopub.status.busy": "2023-04-20T19:18:44.267690Z",
          "iopub.execute_input": "2023-04-20T19:18:44.269005Z",
          "iopub.status.idle": "2023-04-20T19:18:44.288693Z",
          "shell.execute_reply.started": "2023-04-20T19:18:44.268953Z",
          "shell.execute_reply": "2023-04-20T19:18:44.287445Z"
        },
        "trusted": true,
        "id": "1r8Dos3jHcM1"
      },
      "execution_count": null,
      "outputs": []
    },
    {
      "cell_type": "code",
      "source": [
        "data[\"question\"] = data.question.apply(clean_text)"
      ],
      "metadata": {
        "execution": {
          "iopub.status.busy": "2023-04-20T19:18:44.293062Z",
          "iopub.execute_input": "2023-04-20T19:18:44.294280Z",
          "iopub.status.idle": "2023-04-20T19:18:44.511243Z",
          "shell.execute_reply.started": "2023-04-20T19:18:44.294230Z",
          "shell.execute_reply": "2023-04-20T19:18:44.510001Z"
        },
        "trusted": true,
        "id": "3Il5hbP8HcM4"
      },
      "execution_count": null,
      "outputs": []
    },
    {
      "cell_type": "code",
      "source": [
        "data[\"question\"][0]"
      ],
      "metadata": {
        "execution": {
          "iopub.status.busy": "2023-04-20T19:18:44.512529Z",
          "iopub.execute_input": "2023-04-20T19:18:44.513472Z",
          "iopub.status.idle": "2023-04-20T19:18:44.521370Z",
          "shell.execute_reply.started": "2023-04-20T19:18:44.513431Z",
          "shell.execute_reply": "2023-04-20T19:18:44.519836Z"
        },
        "trusted": true,
        "id": "KYlH7uqsHcM6"
      },
      "execution_count": null,
      "outputs": []
    },
    {
      "cell_type": "code",
      "source": [
        "data[\"answer\"] = data.answer.apply(clean_text)"
      ],
      "metadata": {
        "execution": {
          "iopub.status.busy": "2023-04-20T19:18:44.523036Z",
          "iopub.execute_input": "2023-04-20T19:18:44.524717Z",
          "iopub.status.idle": "2023-04-20T19:18:44.731083Z",
          "shell.execute_reply.started": "2023-04-20T19:18:44.524651Z",
          "shell.execute_reply": "2023-04-20T19:18:44.729829Z"
        },
        "trusted": true,
        "id": "D25Vm0tEHcM7"
      },
      "execution_count": null,
      "outputs": []
    },
    {
      "cell_type": "code",
      "source": [
        "question  = data.question.values.tolist()\n",
        "answer =  data.answer.values.tolist()"
      ],
      "metadata": {
        "execution": {
          "iopub.status.busy": "2023-04-20T19:18:44.732812Z",
          "iopub.execute_input": "2023-04-20T19:18:44.733199Z",
          "iopub.status.idle": "2023-04-20T19:18:44.739409Z",
          "shell.execute_reply.started": "2023-04-20T19:18:44.733165Z",
          "shell.execute_reply": "2023-04-20T19:18:44.738390Z"
        },
        "trusted": true,
        "id": "kNYBR-UBHcM8"
      },
      "execution_count": null,
      "outputs": []
    },
    {
      "cell_type": "code",
      "source": [
        "def tokenize(lang):\n",
        "    lang_tokenizer = tf.keras.preprocessing.text.Tokenizer(\n",
        "      filters='')\n",
        "    lang_tokenizer.fit_on_texts(lang)\n",
        "    tensor = lang_tokenizer.texts_to_sequences(lang)\n",
        "\n",
        "    tensor = tf.keras.preprocessing.sequence.pad_sequences(tensor,\n",
        "                                                         padding='post')\n",
        "\n",
        "    return tensor, lang_tokenizer"
      ],
      "metadata": {
        "execution": {
          "iopub.status.busy": "2023-04-20T19:18:44.740570Z",
          "iopub.execute_input": "2023-04-20T19:18:44.741407Z",
          "iopub.status.idle": "2023-04-20T19:18:44.755625Z",
          "shell.execute_reply.started": "2023-04-20T19:18:44.741369Z",
          "shell.execute_reply": "2023-04-20T19:18:44.754422Z"
        },
        "trusted": true,
        "id": "VRbfWPssHcM-"
      },
      "execution_count": null,
      "outputs": []
    },
    {
      "cell_type": "code",
      "source": [
        "input_tensor , inp_lang  =  tokenize(question)\n"
      ],
      "metadata": {
        "execution": {
          "iopub.status.busy": "2023-04-20T19:18:44.757826Z",
          "iopub.execute_input": "2023-04-20T19:18:44.759248Z",
          "iopub.status.idle": "2023-04-20T19:18:45.362704Z",
          "shell.execute_reply.started": "2023-04-20T19:18:44.759038Z",
          "shell.execute_reply": "2023-04-20T19:18:45.361001Z"
        },
        "trusted": true,
        "id": "dW9oeXoAHcM_"
      },
      "execution_count": null,
      "outputs": []
    },
    {
      "cell_type": "code",
      "source": [
        "target_tensor , targ_lang  =  tokenize(answer)"
      ],
      "metadata": {
        "execution": {
          "iopub.status.busy": "2023-04-20T19:18:45.367995Z",
          "iopub.execute_input": "2023-04-20T19:18:45.368480Z",
          "iopub.status.idle": "2023-04-20T19:18:45.467348Z",
          "shell.execute_reply.started": "2023-04-20T19:18:45.368443Z",
          "shell.execute_reply": "2023-04-20T19:18:45.466266Z"
        },
        "trusted": true,
        "id": "g-Cdl6MLHcNB"
      },
      "execution_count": null,
      "outputs": []
    },
    {
      "cell_type": "code",
      "source": [
        " #len(inp_question) ==  len(inp_answer)"
      ],
      "metadata": {
        "execution": {
          "iopub.status.busy": "2023-04-20T19:18:45.468552Z",
          "iopub.execute_input": "2023-04-20T19:18:45.469712Z",
          "iopub.status.idle": "2023-04-20T19:18:45.475885Z",
          "shell.execute_reply.started": "2023-04-20T19:18:45.469660Z",
          "shell.execute_reply": "2023-04-20T19:18:45.474398Z"
        },
        "trusted": true,
        "id": "qFZ3XARAHcNC"
      },
      "execution_count": null,
      "outputs": []
    },
    {
      "cell_type": "code",
      "source": [
        "def remove_tags(sentence):\n",
        "    return sentence.split(\"<start>\")[-1].split(\"<end>\")[0]"
      ],
      "metadata": {
        "execution": {
          "iopub.status.busy": "2023-04-20T19:18:45.478082Z",
          "iopub.execute_input": "2023-04-20T19:18:45.478611Z",
          "iopub.status.idle": "2023-04-20T19:18:45.500696Z",
          "shell.execute_reply.started": "2023-04-20T19:18:45.478566Z",
          "shell.execute_reply": "2023-04-20T19:18:45.499073Z"
        },
        "trusted": true,
        "id": "H16SyigsHcND"
      },
      "execution_count": null,
      "outputs": []
    },
    {
      "cell_type": "code",
      "source": [
        "max_length_targ, max_length_inp = target_tensor.shape[1], input_tensor.shape[1]\n"
      ],
      "metadata": {
        "execution": {
          "iopub.status.busy": "2023-04-20T19:18:45.503545Z",
          "iopub.execute_input": "2023-04-20T19:18:45.503979Z",
          "iopub.status.idle": "2023-04-20T19:18:45.516521Z",
          "shell.execute_reply.started": "2023-04-20T19:18:45.503943Z",
          "shell.execute_reply": "2023-04-20T19:18:45.514697Z"
        },
        "trusted": true,
        "id": "4_17RrxCHcNE"
      },
      "execution_count": null,
      "outputs": []
    },
    {
      "cell_type": "code",
      "source": [
        "# Creating training and validation sets using an 80-20 split\n",
        "input_tensor_train, input_tensor_val, target_tensor_train, target_tensor_val = train_test_split(input_tensor, target_tensor, test_size=0.2)"
      ],
      "metadata": {
        "execution": {
          "iopub.status.busy": "2023-04-20T19:18:45.518127Z",
          "iopub.execute_input": "2023-04-20T19:18:45.518652Z",
          "iopub.status.idle": "2023-04-20T19:18:45.533500Z",
          "shell.execute_reply.started": "2023-04-20T19:18:45.518609Z",
          "shell.execute_reply": "2023-04-20T19:18:45.532161Z"
        },
        "trusted": true,
        "id": "vbqR5kkKHcNG"
      },
      "execution_count": null,
      "outputs": []
    },
    {
      "cell_type": "code",
      "source": [
        "#print(len(train_inp) , len(val_inp) , len(train_target) , len(val_target))"
      ],
      "metadata": {
        "execution": {
          "iopub.status.busy": "2023-04-20T19:18:45.535225Z",
          "iopub.execute_input": "2023-04-20T19:18:45.535879Z",
          "iopub.status.idle": "2023-04-20T19:18:45.545754Z",
          "shell.execute_reply.started": "2023-04-20T19:18:45.535841Z",
          "shell.execute_reply": "2023-04-20T19:18:45.544447Z"
        },
        "trusted": true,
        "id": "tUEIm187HcNH"
      },
      "execution_count": null,
      "outputs": []
    },
    {
      "cell_type": "code",
      "source": [
        "BUFFER_SIZE = len(input_tensor_train)\n",
        "BATCH_SIZE = 64\n",
        "steps_per_epoch = len(input_tensor_train)//BATCH_SIZE\n",
        "embedding_dim = 256\n",
        "units = 1024\n",
        "vocab_inp_size = len(inp_lang.word_index)+1\n",
        "vocab_tar_size = len(targ_lang.word_index)+1\n",
        "\n",
        "dataset = tf.data.Dataset.from_tensor_slices((input_tensor_train, target_tensor_train)).shuffle(BUFFER_SIZE)\n",
        "dataset = dataset.batch(BATCH_SIZE, drop_remainder=True)\n",
        "\n",
        "example_input_batch, example_target_batch = next(iter(dataset))\n",
        "example_input_batch.shape, example_target_batch.shape"
      ],
      "metadata": {
        "execution": {
          "iopub.status.busy": "2023-04-20T19:18:45.547955Z",
          "iopub.execute_input": "2023-04-20T19:18:45.548599Z",
          "iopub.status.idle": "2023-04-20T19:18:45.680817Z",
          "shell.execute_reply.started": "2023-04-20T19:18:45.548475Z",
          "shell.execute_reply": "2023-04-20T19:18:45.679516Z"
        },
        "trusted": true,
        "id": "mxttAyghHcNI"
      },
      "execution_count": null,
      "outputs": []
    },
    {
      "cell_type": "code",
      "source": [
        "class Encoder(tf.keras.Model):\n",
        "    def __init__(self, vocab_size, embedding_dim, enc_units, batch_sz):\n",
        "        super(Encoder, self).__init__()\n",
        "        self.batch_sz = batch_sz\n",
        "        self.enc_units = enc_units\n",
        "        self.embedding = tf.keras.layers.Embedding(vocab_size, embedding_dim)\n",
        "        self.gru = tf.keras.layers.GRU(self.enc_units,\n",
        "                                       return_sequences=True,\n",
        "                                       return_state=True,\n",
        "                                       recurrent_initializer='glorot_uniform')\n",
        "\n",
        "    def call(self, x,hidden):\n",
        "        x = self.embedding(x)\n",
        "        output, state = self.gru(x, initial_state = hidden)\n",
        "        return output, state\n",
        "    \n",
        "    def initialize_hidden_state(self):\n",
        "        return tf.zeros((self.batch_sz, self.enc_units))"
      ],
      "metadata": {
        "execution": {
          "iopub.status.busy": "2023-04-20T19:18:45.682502Z",
          "iopub.execute_input": "2023-04-20T19:18:45.683839Z",
          "iopub.status.idle": "2023-04-20T19:18:45.692923Z",
          "shell.execute_reply.started": "2023-04-20T19:18:45.683794Z",
          "shell.execute_reply": "2023-04-20T19:18:45.691591Z"
        },
        "trusted": true,
        "id": "9UI2ZjbIHcNJ"
      },
      "execution_count": null,
      "outputs": []
    },
    {
      "cell_type": "code",
      "source": [
        "encoder = Encoder(vocab_inp_size, embedding_dim, units, BATCH_SIZE)\n",
        "\n",
        "# sample input\n",
        "sample_hidden = encoder.initialize_hidden_state()\n",
        "sample_output, sample_hidden = encoder(example_input_batch, sample_hidden)\n",
        "print ('Encoder output shape: (batch size, sequence length, units) {}'.format(sample_output.shape))\n",
        "print ('Encoder Hidden state shape: (batch size, units) {}'.format(sample_hidden.shape))"
      ],
      "metadata": {
        "execution": {
          "iopub.status.busy": "2023-04-20T19:18:45.694248Z",
          "iopub.execute_input": "2023-04-20T19:18:45.694674Z",
          "iopub.status.idle": "2023-04-20T19:18:46.262014Z",
          "shell.execute_reply.started": "2023-04-20T19:18:45.694639Z",
          "shell.execute_reply": "2023-04-20T19:18:46.260987Z"
        },
        "trusted": true,
        "id": "YiPBEARTHcNK"
      },
      "execution_count": null,
      "outputs": []
    },
    {
      "cell_type": "code",
      "source": [
        "class BahdanauAttention(tf.keras.layers.Layer):\n",
        "    def __init__(self, units):\n",
        "        super(BahdanauAttention, self).__init__()\n",
        "        self.W1 = tf.keras.layers.Dense(units)\n",
        "        self.W2 = tf.keras.layers.Dense(units)\n",
        "        self.V = tf.keras.layers.Dense(1)\n",
        "\n",
        "    def call(self, query, values):\n",
        "        # query hidden state shape == (batch_size, hidden size)\n",
        "        # query_with_time_axis shape == (batch_size, 1, hidden size)\n",
        "        # values shape == (batch_size, max_len, hidden size)\n",
        "        # we are doing this to broadcast addition along the time axis to calculate the score\n",
        "        query_with_time_axis = tf.expand_dims(query, 1)\n",
        "\n",
        "        # score shape == (batch_size, max_length, 1)\n",
        "        # we get 1 at the last axis because we are applying score to self.V\n",
        "        # the shape of the tensor before applying self.V is (batch_size, max_length, units)\n",
        "        score = self.V(tf.nn.tanh(\n",
        "            self.W1(query_with_time_axis) + self.W2(values)))\n",
        "\n",
        "        # attention_weights shape == (batch_size, max_length, 1)\n",
        "        attention_weights = tf.nn.softmax(score, axis=1)\n",
        "\n",
        "        # context_vector shape after sum == (batch_size, hidden_size)\n",
        "        context_vector = attention_weights * values\n",
        "        context_vector = tf.reduce_sum(context_vector, axis=1)\n",
        "\n",
        "        return context_vector, attention_weights"
      ],
      "metadata": {
        "execution": {
          "iopub.status.busy": "2023-04-20T19:18:46.263552Z",
          "iopub.execute_input": "2023-04-20T19:18:46.264487Z",
          "iopub.status.idle": "2023-04-20T19:18:46.274023Z",
          "shell.execute_reply.started": "2023-04-20T19:18:46.264449Z",
          "shell.execute_reply": "2023-04-20T19:18:46.273068Z"
        },
        "trusted": true,
        "id": "XhtRhoKdHcNM"
      },
      "execution_count": null,
      "outputs": []
    },
    {
      "cell_type": "code",
      "source": [
        "attention_layer = BahdanauAttention(10)\n",
        "attention_result, attention_weights = attention_layer(sample_hidden, sample_output)\n",
        "\n",
        "print(\"Attention result shape: (batch size, units) {}\".format(attention_result.shape))\n",
        "print(\"Attention weights shape: (batch_size, sequence_length, 1) {}\".format(attention_weights.shape))"
      ],
      "metadata": {
        "execution": {
          "iopub.status.busy": "2023-04-20T19:18:46.275704Z",
          "iopub.execute_input": "2023-04-20T19:18:46.276468Z",
          "iopub.status.idle": "2023-04-20T19:18:46.346623Z",
          "shell.execute_reply.started": "2023-04-20T19:18:46.276430Z",
          "shell.execute_reply": "2023-04-20T19:18:46.345297Z"
        },
        "trusted": true,
        "id": "1otz7J9SHcNO"
      },
      "execution_count": null,
      "outputs": []
    },
    {
      "cell_type": "code",
      "source": [
        "class Decoder(tf.keras.Model):\n",
        "    def __init__(self, vocab_size, embedding_dim, dec_units, batch_sz):\n",
        "        super(Decoder, self).__init__()\n",
        "        self.batch_sz = batch_sz\n",
        "        self.dec_units = dec_units\n",
        "        self.embedding = tf.keras.layers.Embedding(vocab_size, embedding_dim)\n",
        "        self.gru = tf.keras.layers.GRU(self.dec_units,\n",
        "                                       return_sequences=True,\n",
        "                                       return_state=True,\n",
        "                                       recurrent_initializer='glorot_uniform')\n",
        "        self.fc = tf.keras.layers.Dense(vocab_size)\n",
        "\n",
        "        # used for attention\n",
        "        self.attention = BahdanauAttention(self.dec_units)\n",
        "\n",
        "    def call(self, x, hidden, enc_output):\n",
        "        # enc_output shape == (batch_size, max_length, hidden_size)\n",
        "        context_vector, attention_weights = self.attention(hidden, enc_output)\n",
        "\n",
        "        # x shape after passing through embedding == (batch_size, 1, embedding_dim)\n",
        "        x = self.embedding(x)\n",
        "\n",
        "        # x shape after concatenation == (batch_size, 1, embedding_dim + hidden_size)\n",
        "        x = tf.concat([tf.expand_dims(context_vector, 1), x], axis=-1)\n",
        "\n",
        "        # passing the concatenated vector to the GRU\n",
        "        output, state = self.gru(x)\n",
        "\n",
        "        # output shape == (batch_size * 1, hidden_size)\n",
        "        output = tf.reshape(output, (-1, output.shape[2]))\n",
        "\n",
        "        # output shape == (batch_size, vocab)\n",
        "        x = self.fc(output)\n",
        "\n",
        "        return x, state, attention_weights\n"
      ],
      "metadata": {
        "execution": {
          "iopub.status.busy": "2023-04-20T19:18:46.348637Z",
          "iopub.execute_input": "2023-04-20T19:18:46.349460Z",
          "iopub.status.idle": "2023-04-20T19:18:46.364617Z",
          "shell.execute_reply.started": "2023-04-20T19:18:46.349410Z",
          "shell.execute_reply": "2023-04-20T19:18:46.362540Z"
        },
        "trusted": true,
        "id": "7u-hVIpQHcNP"
      },
      "execution_count": null,
      "outputs": []
    },
    {
      "cell_type": "code",
      "source": [
        "decoder = Decoder(vocab_tar_size, embedding_dim, units, BATCH_SIZE)\n",
        "\n",
        "sample_decoder_output, _, _ = decoder(tf.random.uniform((BATCH_SIZE, 1)),\n",
        "                                      sample_hidden, sample_output)\n",
        "\n",
        "print ('Decoder output shape: (batch_size, vocab size) {}'.format(sample_decoder_output.shape))"
      ],
      "metadata": {
        "execution": {
          "iopub.status.busy": "2023-04-20T19:18:46.370223Z",
          "iopub.execute_input": "2023-04-20T19:18:46.370655Z",
          "iopub.status.idle": "2023-04-20T19:18:46.612201Z",
          "shell.execute_reply.started": "2023-04-20T19:18:46.370622Z",
          "shell.execute_reply": "2023-04-20T19:18:46.610453Z"
        },
        "trusted": true,
        "id": "dXVj5SChHcNR"
      },
      "execution_count": null,
      "outputs": []
    },
    {
      "cell_type": "code",
      "source": [
        "optimizer = tf.keras.optimizers.Adam()\n",
        "loss_object = tf.keras.losses.SparseCategoricalCrossentropy(\n",
        "    from_logits=True, reduction='none')\n",
        "\n",
        "def loss_function(real, pred):\n",
        "    mask = tf.math.logical_not(tf.math.equal(real, 0))\n",
        "    loss_ = loss_object(real, pred)\n",
        "\n",
        "    mask = tf.cast(mask, dtype=loss_.dtype)\n",
        "    loss_ *= mask\n",
        "\n",
        "    return tf.reduce_mean(loss_)"
      ],
      "metadata": {
        "execution": {
          "iopub.status.busy": "2023-04-20T19:18:46.614221Z",
          "iopub.execute_input": "2023-04-20T19:18:46.614625Z",
          "iopub.status.idle": "2023-04-20T19:18:46.623070Z",
          "shell.execute_reply.started": "2023-04-20T19:18:46.614592Z",
          "shell.execute_reply": "2023-04-20T19:18:46.621168Z"
        },
        "trusted": true,
        "id": "S1ZEHA6yHcNS"
      },
      "execution_count": null,
      "outputs": []
    },
    {
      "cell_type": "code",
      "source": [
        "@tf.function\n",
        "def train_step(inp, targ, enc_hidden):\n",
        "    loss = 0\n",
        "\n",
        "    with tf.GradientTape() as tape:\n",
        "        enc_output, enc_hidden = encoder(inp, enc_hidden)\n",
        "\n",
        "        dec_hidden = enc_hidden\n",
        "\n",
        "        dec_input = tf.expand_dims([targ_lang.word_index['<sos>']] * BATCH_SIZE, 1)\n",
        "\n",
        "        # Teacher forcing - feeding the target as the next input\n",
        "        for t in range(1, targ.shape[1]):\n",
        "            # passing enc_output to the decoder\n",
        "            predictions, dec_hidden, _ = decoder(dec_input, dec_hidden, enc_output)\n",
        "\n",
        "            loss += loss_function(targ[:, t], predictions)\n",
        "\n",
        "            # using teacher forcing\n",
        "            dec_input = tf.expand_dims(targ[:, t], 1)\n",
        "\n",
        "    batch_loss = (loss / int(targ.shape[1]))\n",
        "\n",
        "    variables = encoder.trainable_variables + decoder.trainable_variables\n",
        "\n",
        "    gradients = tape.gradient(loss, variables)\n",
        "\n",
        "    optimizer.apply_gradients(zip(gradients, variables))\n",
        "\n",
        "    return batch_loss"
      ],
      "metadata": {
        "execution": {
          "iopub.status.busy": "2023-04-20T19:18:46.625806Z",
          "iopub.execute_input": "2023-04-20T19:18:46.626382Z",
          "iopub.status.idle": "2023-04-20T19:18:46.642351Z",
          "shell.execute_reply.started": "2023-04-20T19:18:46.626295Z",
          "shell.execute_reply": "2023-04-20T19:18:46.641323Z"
        },
        "trusted": true,
        "id": "Xrj8QsuFHcNT"
      },
      "execution_count": null,
      "outputs": []
    },
    {
      "cell_type": "code",
      "source": [
        "EPOCHS = 40\n",
        "\n",
        "for epoch in range(1, EPOCHS + 1):\n",
        "    enc_hidden = encoder.initialize_hidden_state()\n",
        "    total_loss = 0\n",
        "\n",
        "    for (batch, (inp, targ)) in enumerate(dataset.take(steps_per_epoch)):\n",
        "        batch_loss = train_step(inp, targ, enc_hidden)\n",
        "        total_loss += batch_loss\n",
        "\n",
        "    print('Epoch:{:3d} Loss:{:.4f}'.format(epoch,total_loss / steps_per_epoch))"
      ],
      "metadata": {
        "execution": {
          "iopub.status.busy": "2023-04-20T19:18:46.644317Z",
          "iopub.execute_input": "2023-04-20T19:18:46.644691Z"
        },
        "trusted": true,
        "id": "fpKpRCMeHcNV"
      },
      "execution_count": null,
      "outputs": []
    },
    {
      "cell_type": "code",
      "source": [
        "def evaluate(sentence):\n",
        "    sentence = clean_text(sentence)\n",
        "\n",
        "    inputs = [inp_lang.word_index[i] for i in sentence.split(' ')]\n",
        "    inputs = tf.keras.preprocessing.sequence.pad_sequences([inputs],\n",
        "                                                         maxlen=max_length_inp,\n",
        "                                                         padding='post')\n",
        "    inputs = tf.convert_to_tensor(inputs)\n",
        "\n",
        "    result = ''\n",
        "\n",
        "    hidden = [tf.zeros((1, units))]\n",
        "    enc_out, enc_hidden = encoder(inputs, hidden)\n",
        "\n",
        "    dec_hidden = enc_hidden\n",
        "    dec_input = tf.expand_dims([targ_lang.word_index['<sos>']], 0)\n",
        "\n",
        "    for t in range(max_length_targ):\n",
        "        predictions, dec_hidden, attention_weights = decoder(dec_input,\n",
        "                                                             dec_hidden,\n",
        "                                                             enc_out)\n",
        "\n",
        "        # storing the attention weights to plot later on\n",
        "        attention_weights = tf.reshape(attention_weights, (-1, ))\n",
        "\n",
        "        predicted_id = tf.argmax(predictions[0]).numpy()\n",
        "\n",
        "        result += targ_lang.index_word[predicted_id] + ' '\n",
        "\n",
        "        if targ_lang.index_word[predicted_id] == '<eos>':\n",
        "            return remove_tags(result), remove_tags(sentence)\n",
        "\n",
        "        # the predicted ID is fed back into the model\n",
        "        dec_input = tf.expand_dims([predicted_id], 0)\n",
        "\n",
        "    return remove_tags(result), remove_tags(sentence)"
      ],
      "metadata": {
        "trusted": true,
        "id": "5jAciCIrHcNW"
      },
      "execution_count": null,
      "outputs": []
    },
    {
      "cell_type": "code",
      "source": [
        "questions  =[]\n",
        "answers = []\n",
        "with open(\"dialogs.txt\",'r') as f :\n",
        "    for line in f :\n",
        "        line  =  line.split('\\t')\n",
        "        questions.append(line[0])\n",
        "        answers.append(line[1])\n",
        "print(len(question) == len(answer))"
      ],
      "metadata": {
        "trusted": true,
        "id": "-Z52tXUkHcNY"
      },
      "execution_count": null,
      "outputs": []
    },
    {
      "cell_type": "code",
      "source": [
        "def ask(sentence):\n",
        "    result, sentence = evaluate(sentence)\n",
        "\n",
        "    print('Question: %s' % (sentence))\n",
        "    print('Predicted answer: {}'.format(result))\n",
        "ask(questions[10])"
      ],
      "metadata": {
        "trusted": true,
        "id": "8cJaV-52HcNZ"
      },
      "execution_count": null,
      "outputs": []
    },
    {
      "cell_type": "code",
      "source": [
        "ask(questions[50])"
      ],
      "metadata": {
        "trusted": true,
        "id": "fCvXY8gTHcNa"
      },
      "execution_count": null,
      "outputs": []
    },
    {
      "cell_type": "code",
      "source": [
        "print(answers[50])"
      ],
      "metadata": {
        "trusted": true,
        "id": "PweyXuTuHcNb"
      },
      "execution_count": null,
      "outputs": []
    },
    {
      "cell_type": "code",
      "source": [
        "ask(\"Hello\")"
      ],
      "metadata": {
        "id": "8kRUglKAHcNc"
      },
      "execution_count": null,
      "outputs": []
    },
    {
      "cell_type": "code",
      "source": [
        "ask(\"Where are you?\")"
      ],
      "metadata": {
        "id": "ca7BYmmwcma_"
      },
      "execution_count": null,
      "outputs": []
    },
    {
      "cell_type": "code",
      "source": [
        "ask(\"Hello\")"
      ],
      "metadata": {
        "id": "3zI5k3KmcrSP"
      },
      "execution_count": null,
      "outputs": []
    },
    {
      "cell_type": "code",
      "source": [
        "ask(\"How are you doing?\")"
      ],
      "metadata": {
        "id": "ThhJgl92dElM"
      },
      "execution_count": null,
      "outputs": []
    },
    {
      "cell_type": "code",
      "source": [
        "ask(\"hi, how are you doing?\")"
      ],
      "metadata": {
        "id": "EypEXjX-dHO8"
      },
      "execution_count": null,
      "outputs": []
    },
    {
      "cell_type": "code",
      "source": [
        "ask(\"what school do you go to?\")"
      ],
      "metadata": {
        "id": "NQ37KESadPws"
      },
      "execution_count": null,
      "outputs": []
    },
    {
      "cell_type": "code",
      "source": [
        "ask(\"how are you doing today?\")"
      ],
      "metadata": {
        "id": "XyT1hStSdXjg"
      },
      "execution_count": null,
      "outputs": []
    },
    {
      "cell_type": "code",
      "source": [
        "ask(\"congratulations on your promotion.\")"
      ],
      "metadata": {
        "id": "hu67SnWoddII"
      },
      "execution_count": null,
      "outputs": []
    },
    {
      "cell_type": "code",
      "source": [
        "ask(\"i'm serious. you deserved this promotion.\")"
      ],
      "metadata": {
        "id": "QsSmTzYwdhLO"
      },
      "execution_count": null,
      "outputs": []
    },
    {
      "cell_type": "code",
      "source": [
        "ask(\"Are you happy?\")"
      ],
      "metadata": {
        "id": "-x4l1GNJdl8M"
      },
      "execution_count": null,
      "outputs": []
    },
    {
      "cell_type": "code",
      "source": [],
      "metadata": {
        "id": "HoO4wU_7dq0K"
      },
      "execution_count": null,
      "outputs": []
    }
  ]
}